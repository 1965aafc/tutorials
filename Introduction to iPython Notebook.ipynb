{
 "cells": [
  {
   "cell_type": "markdown",
   "metadata": {},
   "source": [
    "#Cognitive and Neural Dynamics Lab Tutorials\n",
    "##iPython Notebook\n",
    "\n",
    "#####Torben Noto 2015\n"
   ]
  },
  {
   "cell_type": "markdown",
   "metadata": {},
   "source": [
    "Hi Welcome to the Voytek Lab and iPython notebook. We use this tool to walk through some of the calculations that we use\n",
    "in this lab.  This is for demonstration purposes only and the calculations we use in our projects may be different than the ones we use in these tutorials.\n",
    "If you are completely new to python, this is not where you should start. I recommend doing the python tutorial on either www.codeacademy.com or http://learnpythonthehardway.org/\n",
    "\n",
    "The purpose of this notebook is to:\n",
    "\n",
    "* Introduce you to iPython Notebook\n",
    "* Learn how to run a cell\n",
    "* Import modules\n",
    "* Load your data into ipython notebook\n",
    "\n",
    "\n",
    "This will be super quick. Here we're just making sure you have the basics down and that anaconda is installed correctly.\n",
    "\n",
    "Let's get started\n",
    "\n",
    "-----------------------------------------------------------------------------------------------------------------------------"
   ]
  },
  {
   "cell_type": "markdown",
   "metadata": {},
   "source": [
    "The grey rounded-corner rectangle below this text box is a cell.\n",
    "\n",
    "You can run this cell by highlighting it and pressing shift+return. \n",
    "This executes the statement in the cell and is a simple way to keep track of your functions and variables in complex calculations.\n",
    "Try running the following cell and see what happens."
   ]
  },
  {
   "cell_type": "code",
   "execution_count": 3,
   "metadata": {
    "collapsed": false
   },
   "outputs": [
    {
     "name": "stdout",
     "output_type": "stream",
     "text": [
      "Populating the interactive namespace from numpy and matplotlib\n",
      "I can count to 10. Watch!\n",
      "\n",
      "1\n",
      "2\n",
      "3\n",
      "4\n",
      "5\n",
      "6\n",
      "7\n",
      "8\n",
      "9\n",
      "10\n"
     ]
    }
   ],
   "source": [
    "%pylab inline\n",
    "#this is just a setting that lets us plot figures within the notebook. Don't worry about this for now\n",
    "\n",
    "print ('I can count to 10. Watch!\\n')\n",
    "\n",
    "for x in range(1,11):\n",
    "    print (str(x))"
   ]
  },
  {
   "cell_type": "markdown",
   "metadata": {},
   "source": [
    "Some important things about running cells:\n",
    "* If you accidentally make an infinite loop in a cell or you want to stop ipython notebook from running, click the stop button up there on the toolbar ^^^ to stop the current cell and the restart arrow if you want your computer to forget all of the modules, functions, and variables you've stored. If you've been working on the same notebook for a while and it's acting weird. I recommend restarting it.\n",
    "* You can silence the output of a line by putting ; at the end like MATLAB\n",
    "* Save often. In case you run a cell that won't terminate it helps to have everything you had up to that point.\n",
    "* Experiment and make mistakes. It's important to see where things work and where things break. For science.\n",
    "---------------"
   ]
  },
  {
   "cell_type": "markdown",
   "metadata": {},
   "source": [
    "Python is a very powerful coding language that can do lots and lots of awesome things like running the backend of a social media website, or programming video games, or best of all: complex data analyses on neuroscience data. However, python doesn't come packaged with all of the tools we'll need for our specific project. Luckily people have made modules for python that have libraries of functions that we can use on our project.\n",
    "\n",
    "In the following step we're going to import some modules. It is customary to abbreviate the module names for whatever reason.\n",
    "The following cell should work without any problems. If it doesn't, let me know"
   ]
  },
  {
   "cell_type": "code",
   "execution_count": 4,
   "metadata": {
    "collapsed": false
   },
   "outputs": [],
   "source": [
    "#here are some common modules:\n",
    "import scipy as sp #library of science functions\n",
    "import scipy.io \n",
    "import numpy as np #library of math functions\n",
    "import pandas as pd #library of data analysis\n",
    "import matplotlib.pyplot as plt #functions to plot data\n",
    "import os #This lets python talk to your opperating system to open and save files."
   ]
  },
  {
   "cell_type": "markdown",
   "metadata": {},
   "source": [
    "Now let's get some data. To do that, we need to tell python where to get the data from and save it as a variable. \n",
    "emodat.mat is one channel of EEG data that I'll use in all of the tutorials. Contact us and we can give it to you.\n",
    "\n",
    "When you run the following cell, your filename will be the same but your path_to_file will be different. You need to tell your computer where the data is and you probably didn't save emodat.mat in the same place that I did.\n",
    "\n",
    "If you're on a mac it should look something like: '/Users/Jennifer/Desktop/ScienceFolder/'\n",
    "\n",
    "If you're on windows then it should look like: 'C:/Users/Varma/ScienceFolder'\n",
    "\n",
    "Change the path in the following cell to one that reaches your emodat.mat file and see if it works by checking the size of your data."
   ]
  },
  {
   "cell_type": "code",
   "execution_count": 12,
   "metadata": {
    "collapsed": false
   },
   "outputs": [
    {
     "name": "stdout",
     "output_type": "stream",
     "text": [
      "There are 1476035 samples in this data\n"
     ]
    }
   ],
   "source": [
    "filename = 'emodat.mat'; #just a string for the name of the file\n",
    "\n",
    "filename = os.path.join('/Users/Torben/Desktop/Voytek_Things/', filename) #this is how we tell python where the file is\n",
    "\n",
    "\n",
    "datafile = sp.io.loadmat(filename) #this is how we load the file.\n",
    "#there are lots of variables in this .mat file. Let's just look at the voltages at each time point. \n",
    "#In this particular file, that is stored as 'data'. \n",
    "data = datafile['data']; \n",
    "data = data[0];\n",
    "print 'There are ' + str(len(data)) +' samples in this data';"
   ]
  },
  {
   "cell_type": "markdown",
   "metadata": {},
   "source": [
    "Let's use our plotting library to plot some of the data. Not all. That's way too many data points and would take a stupid ammount of time.\n"
   ]
  },
  {
   "cell_type": "code",
   "execution_count": 10,
   "metadata": {
    "collapsed": false
   },
   "outputs": [
    {
     "data": {
      "text/plain": [
       "[<matplotlib.lines.Line2D at 0x1594cb150>]"
      ]
     },
     "execution_count": 10,
     "metadata": {},
     "output_type": "execute_result"
    },
    {
     "data": {
      "image/png": "[encoded data removed]",
      "text/plain": [
       "<matplotlib.figure.Figure at 0x151cd8b50>"
      ]
     },
     "metadata": {},
     "output_type": "display_data"
    }
   ],
   "source": [
    "plt.plot(data[0:1000]); #this is what about 1 second of EEG data looks like"
   ]
  },
  {
   "cell_type": "markdown",
   "metadata": {},
   "source": [
    "There are a **TON** of free, publicly available resources for using python and ipython notebook. A good starting point is here https://github.com/ipython/ipython/wiki/A-gallery-of-interesting-IPython-Notebooks\n",
    "\n",
    "Good luck with python and you're now ready to try all of the other tutorials!"
   ]
  }
 ],
 "metadata": {
  "kernelspec": {
   "display_name": "Python 2",
   "language": "python",
   "name": "python2"
  },
  "language_info": {
   "codemirror_mode": {
    "name": "ipython",
    "version": 2
   },
   "file_extension": ".py",
   "mimetype": "text/x-python",
   "name": "python",
   "nbconvert_exporter": "python",
   "pygments_lexer": "ipython2",
   "version": "2.7.9"
  }
 },
 "nbformat": 4,
 "nbformat_minor": 0
}
