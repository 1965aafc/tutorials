{
 "cells": [
  {
   "cell_type": "markdown",
   "metadata": {},
   "source": [
    "## Introduction"
   ]
  },
  {
   "cell_type": "markdown",
   "metadata": {},
   "source": [
    "<div class=\"alert alert-success\">\n",
    "Welcome to the Voytek Lab GitHub and Jupyter notebook collection.\n",
    "This is the first Jupyter notebook in a tutorial series which broadly discusses the main topics involved with the projects  being done in Voytek lab. We will walk through many of the concepts and calculations that are used in Voytek lab.\n",
    "</div>"
   ]
  },
  {
   "cell_type": "markdown",
   "metadata": {},
   "source": [
    "Knowledge in python is ***greatly*** recommended to help understand these tutorials and to help you preform these procedures, although it is not super necessary. Here are a couple of links which broadly go over Python. <br>\n",
    "\n",
    "[Python: COGS 108](https://github.com/COGS108/Tutorials/blob/master/w02-02a-Python.ipynb)<br>\n",
    "[Python: CodeAcademy](https://github.com/COGS108/Tutorials/blob/master/w02-02a-Python.ipynb)<br>"
   ]
  },
  {
   "cell_type": "markdown",
   "metadata": {},
   "source": [
    "The purpose of this notebook is to:\n",
    "\n",
    "- Introduce you to Jupyter Notebook\n",
    "- Learn how to run cells\n",
    "- Install relevant modules\n",
    "- Load your data into a Jupyter Notebook"
   ]
  },
  {
   "cell_type": "markdown",
   "metadata": {},
   "source": [
    "This notebook will be a brief introduction and I encourage you to explore these tools further. "
   ]
  },
  {
   "cell_type": "markdown",
   "metadata": {},
   "source": [
    "<img src=\"./img/jupyter_logo.png\" />"
   ]
  },
  {
   "cell_type": "markdown",
   "metadata": {},
   "source": [
    "### What is Jupyter notebook & Set up"
   ]
  },
  {
   "cell_type": "markdown",
   "metadata": {},
   "source": [
    "<div class=\"alert alert-success\">\n",
    "Jupyter notebook is a way to develop program processes that we can easily run our data through. It lets us write, run, and present code easily.\n",
    "</div>"
   ]
  },
  {
   "cell_type": "markdown",
   "metadata": {},
   "source": [
    "Jupyter notebook is a tool from  Anaconda - a python distribution which a manages python environments for scientific computing. Jupyter is an example of an environment from Anaconda. Below are the two recommended ways to consume these tutorials. If you think you will be using Jupyter in he future, I recommend following the first option. Otherwise if you just want to take a look at these tutorials and never return to Jupyter - use the second link which will lead you to a cloud-based environment which allows you to run these tutorial notebooks.\n",
    "\n",
    "#### Follow along using Git\n",
    "\n",
    "<img src=\"./img/github_logo.png\" height=\"150\" width=\"150\">\n",
    "\n",
    "- Download anaconda from [here](https://store.continuum.io/cshop/anaconda/)\n",
    "\n",
    "- Clone this [repository](https://github.com/voytekresearch/tutorials) by using git clone \n",
    "\n",
    "- Run the 'Anaconda Navigator' GUI from first bullet point and launch this Jupyter notebook.\n",
    "\n",
    "- Navigate to where you cloned the GitHub repository and click on the .ipynb file you want to run.\n",
    "\n",
    "#### Follow along using Binder\n",
    "\n",
    "<img src=\"./img/binder_logo.png\" height=\"100\" width=\"100\">\n",
    "\n",
    "or alternatively, if you don't want to install anything open this [Binder link](https://mybinder.org/v2/gh/voytekresearch/tutorials/master). You can consume 100% of these tutorials this way too."
   ]
  },
  {
   "cell_type": "markdown",
   "metadata": {},
   "source": [
    "<div class=\"alert alert-info\">\n",
    "If you are unfamiliar with Jupyter Notebook, follow this link for an introduction <a href=\"https://github.com/COGS108/Tutorials/blob/master/01-JupyterNotebooks.ipynb\" class=\"alert-link\">COGS 108: Jupyter Notebook</a> Here is a link for a more indepth Jupyter <a href=\"https://www.dataquest.io/blog/jupyter-notebook-tutorial/\" class=\"alert-link\"> tutorial.</a>\n",
    "</div>\n",
    "\n"
   ]
  },
  {
   "cell_type": "markdown",
   "metadata": {},
   "source": [
    "Also here are a list of [shortcuts](http://maxmelnick.com/2016/04/19/python-beginner-tips-and-tricks.html) - you may find yourself doing a few commands frequently and it's nice to use a quick shortcut to save time."
   ]
  },
  {
   "cell_type": "markdown",
   "metadata": {},
   "source": [
    "## Modules"
   ]
  },
  {
   "cell_type": "markdown",
   "metadata": {},
   "source": [
    "<div class=\"alert alert-success\">\n",
    "In this section we will discuss the python modules used most often in Voytek lab and how to install them.\n",
    "</div>"
   ]
  },
  {
   "cell_type": "markdown",
   "metadata": {},
   "source": [
    "<div class=\"alert alert-info\">\n",
    "Follow this <a href=\"https://github.com/COGS108/Tutorials/blob/master/04-DataSciencePython.ipynb\" class=\"alert-link\">link</a> to learn about the common Voytek lab modules.\n",
    "</div>"
   ]
  },
  {
   "cell_type": "markdown",
   "metadata": {},
   "source": [
    "#### Installing modules using Anaconda\n",
    "If you are using anaconda, you will be able to install many modules by opening 'Anaconda Prompt' and running the command \"pip install *module name*\" For example:<br><br>\n",
    "$pip install pandas\n",
    "<br><br> pip is a nifty module managing tool. On the other hand if you are using Binder to follow along then everything should be set up already."
   ]
  },
  {
   "cell_type": "code",
   "execution_count": 8,
   "metadata": {},
   "outputs": [],
   "source": [
    "# here are some common modules used in Voytek lab:\n",
    "import numpy as np #library of math functions\n",
    "import pandas as pd #library of data analysis functions\n",
    "import matplotlib.pyplot as plt #functions to plot data\n",
    "import sklearn as skl # tools for data mining and machine learning"
   ]
  },
  {
   "cell_type": "markdown",
   "metadata": {},
   "source": [
    "### Importing Data"
   ]
  },
  {
   "cell_type": "markdown",
   "metadata": {},
   "source": [
    "Now let's bring in some data. To do that, we need to tell python where to get the data from and save it as a variable. \n",
    "'emodat.npy' is data from one channel of an [ECoG recording](https://en.wikipedia.org/wiki/Electrocorticography) from a subject looking at faces displaying various emotions. \n",
    "\n",
    "We'll use this data in several of the tutorials. It should be saved at './dat/emodat.npy'"
   ]
  },
  {
   "cell_type": "code",
   "execution_count": 9,
   "metadata": {},
   "outputs": [],
   "source": [
    "# The name of the data file to load\n",
    "filename = \"./dat/emodat.npy\"\n",
    "\n",
    "# Loading data\n",
    "data = np.load(filename)"
   ]
  },
  {
   "cell_type": "markdown",
   "metadata": {},
   "source": [
    "Let's use our plotting library to plot some of the data."
   ]
  },
  {
   "cell_type": "code",
   "execution_count": 10,
   "metadata": {},
   "outputs": [
    {
     "data": {
      "text/plain": [
       "[<matplotlib.lines.Line2D at 0x2dfa1ce2f98>]"
      ]
     },
     "execution_count": 10,
     "metadata": {},
     "output_type": "execute_result"
    },
    {
     "data": {
      "image/png": "[encoded data removed]",
      "text/plain": [
       "<Figure size 432x288 with 1 Axes>"
      ]
     },
     "metadata": {},
     "output_type": "display_data"
    }
   ],
   "source": [
    "plt.plot(data[0:1000]) #this is what about 1 second of ECoG data looks like"
   ]
  },
  {
   "cell_type": "markdown",
   "metadata": {},
   "source": [
    "Alright, that's all we're going to talk about here.\n",
    "\n",
    "Good luck with Jupyter notebook and the rest of the tutorials!"
   ]
  },
  {
   "cell_type": "code",
   "execution_count": null,
   "metadata": {},
   "outputs": [],
   "source": []
  }
 ],
 "metadata": {
  "kernelspec": {
   "display_name": "Python 3",
   "language": "python",
   "name": "python3"
  },
  "language_info": {
   "codemirror_mode": {
    "name": "ipython",
    "version": 3
   },
   "file_extension": ".py",
   "mimetype": "text/x-python",
   "name": "python",
   "nbconvert_exporter": "python",
   "pygments_lexer": "ipython3",
   "version": "3.6.5"
  }
 },
 "nbformat": 4,
 "nbformat_minor": 2
}
